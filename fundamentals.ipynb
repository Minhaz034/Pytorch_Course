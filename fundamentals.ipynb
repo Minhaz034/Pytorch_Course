{
 "cells": [
  {
   "cell_type": "code",
   "id": "initial_id",
   "metadata": {
    "collapsed": true,
    "ExecuteTime": {
     "end_time": "2024-05-20T01:27:39.446808Z",
     "start_time": "2024-05-20T01:27:39.442926Z"
    }
   },
   "source": [
    "import torch\n",
    "import numpy as np\n"
   ],
   "execution_count": 194,
   "outputs": []
  },
  {
   "metadata": {
    "ExecuteTime": {
     "end_time": "2024-05-19T17:40:56.053196Z",
     "start_time": "2024-05-19T17:40:56.046107Z"
    }
   },
   "cell_type": "code",
   "source": [
    "## Random tensors\n",
    "'''\n",
    "Random tensors are important because the way many neural networks learn is that they start with tensors full  of random numbers then just adjust those random numbers and then adjust those numbers to better represent the data\n",
    "'''\n",
    "random_tesnor = torch.rand(2,3,3)\n",
    "print(random_tesnor)\n",
    "print(random_tesnor.ndim)\n",
    "print(random_tesnor.shape)"
   ],
   "id": "d7dbb02b9fea7414",
   "execution_count": 11,
   "outputs": []
  },
  {
   "metadata": {
    "ExecuteTime": {
     "end_time": "2024-05-19T17:51:57.009049Z",
     "start_time": "2024-05-19T17:51:56.826282Z"
    }
   },
   "cell_type": "code",
   "source": [
    "random_image_size_tensor = torch.rand(size=(3,224,224)) # height, width, color_channels (R,G,B)\n",
    "random_image_size_tensor.shape, random_image_size_tensor.ndim\n",
    "import matplotlib.pyplot as plt\n",
    "plt.imshow(random_image_size_tensor[0])"
   ],
   "id": "54fde74bf3691012",
   "execution_count": 27,
   "outputs": []
  },
  {
   "metadata": {
    "ExecuteTime": {
     "end_time": "2024-05-19T17:56:18.799190Z",
     "start_time": "2024-05-19T17:56:18.792651Z"
    }
   },
   "cell_type": "code",
   "source": [
    "zeros = torch.zeros(3,224,224)\n",
    "zeros\n",
    "#tensors range and tensors-like\n",
    "one_to_ten =  torch.arange(start = 1,end = 10, step = 1)\n",
    "ten_zeros = torch.zeros_like(input=one_to_ten)\n",
    "ten_zeros"
   ],
   "id": "ef5dfee179fc81bd",
   "execution_count": 36,
   "outputs": []
  },
  {
   "metadata": {
    "ExecuteTime": {
     "end_time": "2024-05-19T17:53:13.334331Z",
     "start_time": "2024-05-19T17:53:13.329388Z"
    }
   },
   "cell_type": "code",
   "source": "torch.__version__",
   "id": "6f6ed00f500b0882",
   "execution_count": 28,
   "outputs": []
  },
  {
   "metadata": {
    "ExecuteTime": {
     "end_time": "2024-05-19T18:09:09.725048Z",
     "start_time": "2024-05-19T18:09:09.715678Z"
    }
   },
   "cell_type": "code",
   "source": [
    "#tesor_datatypes:\n",
    "float_32_tensor = torch.tensor([3.0,6.0,9.0], dtype=torch.float32, device=\"cuda:3\", requires_grad= False)\n",
    "float_16_tensor  = float_32_tensor.type(torch.float16)\n",
    "\n",
    "\n",
    "\n",
    "print(float_32_tensor)\n",
    "print(float_16_tensor)\n",
    "print(float_32_tensor.dtype)"
   ],
   "id": "3fb3fe48a2cf5328",
   "execution_count": 44,
   "outputs": []
  },
  {
   "metadata": {
    "ExecuteTime": {
     "end_time": "2024-05-19T18:11:56.178928Z",
     "start_time": "2024-05-19T18:11:56.171128Z"
    }
   },
   "cell_type": "code",
   "source": [
    "# float_32_tensor * float_16_tensor\n",
    "float_16_tensor * float_32_tensor"
   ],
   "id": "19cdd0815be0c13a",
   "execution_count": 49,
   "outputs": []
  },
  {
   "metadata": {
    "ExecuteTime": {
     "end_time": "2024-05-19T18:13:23.437984Z",
     "start_time": "2024-05-19T18:13:23.434322Z"
    }
   },
   "cell_type": "code",
   "source": "int_32_tesnor = torch.tensor([3,6,9], dtype=torch.int64, device=\"cuda:3\", requires_grad= False)",
   "id": "16ff9012de9109f4",
   "execution_count": 52,
   "outputs": []
  },
  {
   "metadata": {
    "ExecuteTime": {
     "end_time": "2024-05-19T18:13:23.888429Z",
     "start_time": "2024-05-19T18:13:23.882364Z"
    }
   },
   "cell_type": "code",
   "source": "float_32_tensor  * int_32_tesnor",
   "id": "405c9bf0276b0d1c",
   "execution_count": 53,
   "outputs": []
  },
  {
   "metadata": {
    "ExecuteTime": {
     "end_time": "2024-05-19T18:15:53.314501Z",
     "start_time": "2024-05-19T18:15:53.309232Z"
    }
   },
   "cell_type": "code",
   "source": [
    "# Getting informations from tensors:\n",
    "int_32_tesnor. dtype\n",
    "int_32_tesnor.shape\n",
    "int_32_tesnor.ndim\n",
    "int_32_tesnor.device"
   ],
   "id": "2f9f2aad8b72c04",
   "execution_count": 58,
   "outputs": []
  },
  {
   "metadata": {
    "ExecuteTime": {
     "end_time": "2024-05-19T23:35:12.115020Z",
     "start_time": "2024-05-19T23:35:12.108911Z"
    }
   },
   "cell_type": "code",
   "source": [
    "def get_tensor_metadata(tensor,show_input = False)-> torch.tensor:\n",
    "    if show_input:\n",
    "        print(tensor)\n",
    "    return f\"Tensor data type:{tensor.dtype}\\nTensor shape:{tensor.shape}\\nTensor device:{tensor.device}\"\n",
    "\n",
    "get_tensor_metadata(int_32_tesnor)"
   ],
   "id": "e5b00fc8dde223f1",
   "execution_count": 163,
   "outputs": []
  },
  {
   "metadata": {
    "ExecuteTime": {
     "end_time": "2024-05-19T18:48:24.307451Z",
     "start_time": "2024-05-19T18:48:24.299841Z"
    }
   },
   "cell_type": "code",
   "source": [
    "#Tensor operations: addition, subtraction, multiplication (element-wise), division, matrix multiplication\n",
    "#addition:\n",
    "tensor_1 = torch.rand(3,10)\n",
    "tensor_2 = torch.rand(10,3)\n",
    "tensor_1*10\n"
   ],
   "id": "5ea71520c067465d",
   "execution_count": 78,
   "outputs": []
  },
  {
   "metadata": {
    "ExecuteTime": {
     "end_time": "2024-05-19T18:48:24.477873Z",
     "start_time": "2024-05-19T18:48:24.467651Z"
    }
   },
   "cell_type": "code",
   "source": [
    "%%time\n",
    "torch.matmul(tensor_1,tensor_2)"
   ],
   "id": "1430bddae571d008",
   "execution_count": 79,
   "outputs": []
  },
  {
   "metadata": {},
   "cell_type": "markdown",
   "source": [
    "# tt types of multiplication of tensors :matrix multiplication\n",
    "#rules: common erros : shape errors\n",
    "There are two rules that performing matric multiplication needs to satisfy:\n",
    "1. **inner dimentions** must match\n",
    "2. The resulting matrix has the outer dimension\n"
   ],
   "id": "737cc79a1861b4a4"
  },
  {
   "metadata": {
    "ExecuteTime": {
     "end_time": "2024-05-19T19:00:59.849682Z",
     "start_time": "2024-05-19T19:00:59.841136Z"
    }
   },
   "cell_type": "code",
   "source": [
    "tensor_A = torch.tensor([[1,2,3],\n",
    "                         [4,5,6],\n",
    "                         [7,8,9]])\n",
    "tensor_B = torch.tensor([[7,8,9],\n",
    "                         [10,11,12],\n",
    "                         [13,14,15]])\n",
    "tensor_C = torch.tensor([[1,2],\n",
    "                         [3,4],\n",
    "                         [5,6]])\n",
    "tensor_D = torch.tensor([[7,10],\n",
    "                         [8,11],\n",
    "                         [9,12]])\n",
    "\n",
    "\n",
    "AB = torch.mm(tensor_A,tensor_B)\n",
    "CD = torch.mm(tensor_C,tensor_D.T) ## 3*2 x 2*3"
   ],
   "id": "44861ae46ae2351c",
   "execution_count": 92,
   "outputs": []
  },
  {
   "metadata": {
    "ExecuteTime": {
     "end_time": "2024-05-19T19:01:06.043325Z",
     "start_time": "2024-05-19T19:01:06.036598Z"
    }
   },
   "cell_type": "code",
   "source": "AB.shape,CD.shape",
   "id": "1ab87570044db359",
   "execution_count": 93,
   "outputs": []
  },
  {
   "metadata": {},
   "cell_type": "markdown",
   "source": "",
   "id": "1083f33600328ea7"
  },
  {
   "metadata": {
    "ExecuteTime": {
     "end_time": "2024-05-19T18:58:28.435854Z",
     "start_time": "2024-05-19T18:58:28.431523Z"
    }
   },
   "cell_type": "code",
   "source": [
    "#to fix out tensor shape issues: we can manipulate the shape using **transpose**\n",
    "tensor_C"
   ],
   "id": "cc0024913bc8c03f",
   "execution_count": 86,
   "outputs": []
  },
  {
   "metadata": {
    "ExecuteTime": {
     "end_time": "2024-05-19T18:58:34.483450Z",
     "start_time": "2024-05-19T18:58:34.476465Z"
    }
   },
   "cell_type": "code",
   "source": "tensor_C.T",
   "id": "3f1147aeada9d890",
   "execution_count": 87,
   "outputs": []
  },
  {
   "metadata": {
    "ExecuteTime": {
     "end_time": "2024-05-19T22:50:16.216646Z",
     "start_time": "2024-05-19T22:50:16.211166Z"
    }
   },
   "cell_type": "code",
   "source": [
    "# tensor aggregation\n",
    "#torch.mean() methods require datatypes to be float or complex\n",
    "#min/max/sum/ mean\n",
    "x = torch.arange(0,100,10)\n",
    "torch.max(x)\n",
    "torch.min(x)\n",
    "torch.mean(x.type(torch.float16))\n",
    "x.type(torch.float16).mean()\n",
    "x.sum()\n",
    "torch.sum(x)"
   ],
   "id": "76078c26793531f2",
   "execution_count": 103,
   "outputs": []
  },
  {
   "metadata": {
    "ExecuteTime": {
     "end_time": "2024-05-19T22:53:49.703433Z",
     "start_time": "2024-05-19T22:53:49.696796Z"
    }
   },
   "cell_type": "code",
   "source": [
    "#positional min/mx / aggression argmax, argmax : means which index of the tensor contains the minimum or max value\n",
    "print(x)\n",
    "torch.argmin(x), torch.argmax(x)"
   ],
   "id": "b85b8b17d584d707",
   "execution_count": 110,
   "outputs": []
  },
  {
   "metadata": {
    "ExecuteTime": {
     "end_time": "2024-05-19T22:53:50.048555Z",
     "start_time": "2024-05-19T22:53:50.040873Z"
    }
   },
   "cell_type": "code",
   "source": "x[9]",
   "id": "24a3a3b0ad38f8e9",
   "execution_count": 111,
   "outputs": []
  },
  {
   "metadata": {},
   "cell_type": "markdown",
   "source": [
    "# VERY IMPORTANT\n",
    "- Reshaping, stacking, squeezing and unsqueezing tensors\n",
    "- Reshaping - to solve shape mismatching , reshapes an input tensor to a defines shape\n",
    "- view - return a view of an inout tensor of certain shape but keep the same memory as the original tensor\n",
    "- stacking: combine multiple tensors on top of each other (vstack) or side by side (hstack)\n",
    " - squeeze - removes all 'l' dimensions from the ternsor\n",
    "- unsqueeze - add a '1 dimension to a target tensor'\n",
    "- Permute - Return a view of the input with dimensions permuted (swapped) in a certain way\n"
   ],
   "id": "7c0f14b13c17677c"
  },
  {
   "metadata": {
    "ExecuteTime": {
     "end_time": "2024-05-19T23:24:51.682550Z",
     "start_time": "2024-05-19T23:24:51.675479Z"
    }
   },
   "cell_type": "code",
   "source": [
    "x = torch.arange(1,10)\n",
    "x, x.shape, x.ndim"
   ],
   "id": "4768a069baa8d202",
   "execution_count": 145,
   "outputs": []
  },
  {
   "metadata": {
    "ExecuteTime": {
     "end_time": "2024-05-19T23:31:38.070651Z",
     "start_time": "2024-05-19T23:31:38.067175Z"
    }
   },
   "cell_type": "code",
   "source": [
    "# add an extra dimension\n",
    "x_reshaped = x.reshape(1,9)"
   ],
   "id": "3b90bd4610efdfe3",
   "execution_count": 153,
   "outputs": []
  },
  {
   "metadata": {
    "ExecuteTime": {
     "end_time": "2024-05-19T23:31:38.588635Z",
     "start_time": "2024-05-19T23:31:38.583527Z"
    }
   },
   "cell_type": "code",
   "source": "x_reshaped, x_reshaped.ndim, x_reshaped.shape",
   "id": "b450f2aea240ba76",
   "execution_count": 154,
   "outputs": []
  },
  {
   "metadata": {
    "ExecuteTime": {
     "end_time": "2024-05-19T23:20:52.215367Z",
     "start_time": "2024-05-19T23:20:52.208435Z"
    }
   },
   "cell_type": "code",
   "source": [
    "#change the view:\n",
    "z = x.view(3,3)\n",
    "z,x"
   ],
   "id": "1dce69925d94d7f3",
   "execution_count": 140,
   "outputs": []
  },
  {
   "metadata": {
    "ExecuteTime": {
     "end_time": "2024-05-19T23:21:48.341869Z",
     "start_time": "2024-05-19T23:21:48.335209Z"
    }
   },
   "cell_type": "code",
   "source": [
    "z[:,2] = 10000\n",
    "x,z"
   ],
   "id": "b038b1f722fe912e",
   "execution_count": 142,
   "outputs": []
  },
  {
   "metadata": {
    "ExecuteTime": {
     "end_time": "2024-05-19T23:26:30.262993Z",
     "start_time": "2024-05-19T23:26:30.257487Z"
    }
   },
   "cell_type": "code",
   "source": [
    "#stacking tensors on top of each other\n",
    "x_stacked = torch.stack([x,x,x,x],dim=1)\n",
    "x,x_stacked"
   ],
   "id": "e513a3adbf1699cf",
   "execution_count": 148,
   "outputs": []
  },
  {
   "metadata": {
    "ExecuteTime": {
     "end_time": "2024-05-19T23:35:30.225339Z",
     "start_time": "2024-05-19T23:35:30.220071Z"
    }
   },
   "cell_type": "code",
   "source": [
    "x_reshaped.squeeze().shape\n",
    "print(get_tensor_metadata(x_reshaped,True))\n",
    "print(get_tensor_metadata(x_reshaped.squeeze(),True))"
   ],
   "id": "777827e263217b23",
   "execution_count": 164,
   "outputs": []
  },
  {
   "metadata": {
    "ExecuteTime": {
     "end_time": "2024-05-19T23:39:23.982484Z",
     "start_time": "2024-05-19T23:39:23.974837Z"
    }
   },
   "cell_type": "code",
   "source": "x_reshaped.squeeze().unsqueeze(dim=0)",
   "id": "c89f06cb2a9f6841",
   "execution_count": 169,
   "outputs": []
  },
  {
   "metadata": {
    "ExecuteTime": {
     "end_time": "2024-05-20T00:32:44.311636Z",
     "start_time": "2024-05-20T00:32:44.303374Z"
    }
   },
   "cell_type": "code",
   "source": [
    "y = torch.rand(1,3,3)\n",
    "y_squeezed = torch.squeeze(y,dim=0)\n",
    "print(get_tensor_metadata(y,True))\n",
    "print(get_tensor_metadata(y_squeezed,True))\n",
    "y_unsqueezed = torch.unsqueeze(y_squeezed,dim=0)\n",
    "print(get_tensor_metadata(y_unsqueezed,True))\n"
   ],
   "id": "f9a9b51ee450c475",
   "execution_count": 174,
   "outputs": []
  },
  {
   "metadata": {
    "ExecuteTime": {
     "end_time": "2024-05-20T00:35:03.217539Z",
     "start_time": "2024-05-20T00:35:03.210758Z"
    }
   },
   "cell_type": "code",
   "source": [
    "y_permuted = torch.permute(y,(2,0,1))\n",
    "print(get_tensor_metadata(y_permuted,True))"
   ],
   "id": "c25a7d6ffa7c113f",
   "execution_count": 175,
   "outputs": []
  },
  {
   "metadata": {
    "ExecuteTime": {
     "end_time": "2024-05-20T00:38:13.811720Z",
     "start_time": "2024-05-20T00:38:13.688425Z"
    }
   },
   "cell_type": "code",
   "source": [
    "random_img_data = torch.rand(64,64,3)\n",
    "img_perm = torch.permute(random_img_data, dims=(2,0,1))\n",
    "plt.imshow(img_perm[0])"
   ],
   "id": "7340978ab0e1984f",
   "execution_count": 176,
   "outputs": []
  },
  {
   "metadata": {
    "ExecuteTime": {
     "end_time": "2024-05-20T00:43:08.875961Z",
     "start_time": "2024-05-20T00:43:08.870231Z"
    }
   },
   "cell_type": "code",
   "source": [
    "#indexing in tensors  (selecting data from tensords) very familiar to numpy\n",
    "x = torch.arange(1,10,1).reshape(1,3,3)\n",
    "x.shape, x"
   ],
   "id": "26389997de673a0b",
   "execution_count": 177,
   "outputs": []
  },
  {
   "metadata": {
    "ExecuteTime": {
     "end_time": "2024-05-20T00:44:13.756988Z",
     "start_time": "2024-05-20T00:44:13.748797Z"
    }
   },
   "cell_type": "code",
   "source": "x[0] #dimension 0",
   "id": "216a395760be57b8",
   "execution_count": 181,
   "outputs": []
  },
  {
   "metadata": {
    "ExecuteTime": {
     "end_time": "2024-05-20T00:51:33.297048Z",
     "start_time": "2024-05-20T00:51:33.288339Z"
    }
   },
   "cell_type": "code",
   "source": [
    "#dimension 1\n",
    "x, x[0][:,-1], x[0][2][2], x[0][2][:]"
   ],
   "id": "abcebc39cdb79af9",
   "execution_count": 189,
   "outputs": []
  },
  {
   "metadata": {
    "ExecuteTime": {
     "end_time": "2024-05-20T00:52:27.453605Z",
     "start_time": "2024-05-20T00:52:27.446993Z"
    }
   },
   "cell_type": "code",
   "source": "x[:,:,2] , x[0,:,2]",
   "id": "10c502618c993463",
   "execution_count": 191,
   "outputs": []
  },
  {
   "metadata": {
    "ExecuteTime": {
     "end_time": "2024-05-20T00:55:31.515360Z",
     "start_time": "2024-05-20T00:55:31.510841Z"
    }
   },
   "cell_type": "code",
   "source": "x[0,:,-1]",
   "id": "5fa40d326c3ba5ec",
   "execution_count": 193,
   "outputs": []
  },
  {
   "metadata": {
    "ExecuteTime": {
     "end_time": "2024-05-20T01:30:49.652736Z",
     "start_time": "2024-05-20T01:30:49.648044Z"
    }
   },
   "cell_type": "code",
   "source": [
    "#numpy and torch\n",
    "# WARNING: getting tensors from numpy: the default data type will bbe float64 whereas torch's defaut data type is float32\n",
    "array = np.arange(1.0,8.0)\n",
    "tensor =  torch.from_numpy(array)\n",
    "# tensor =  torch.from_numpy(array).type(torch.float32)\n",
    "print(get_tensor_metadata(tensor, True))"
   ],
   "id": "30575f83f9fac111",
   "execution_count": 197,
   "outputs": []
  },
  {
   "metadata": {
    "ExecuteTime": {
     "end_time": "2024-05-20T01:39:46.756062Z",
     "start_time": "2024-05-20T01:39:46.748917Z"
    }
   },
   "cell_type": "code",
   "source": [
    "array = array + 1\n",
    "array, tensor"
   ],
   "id": "32b63af56645a253",
   "execution_count": 198,
   "outputs": []
  },
  {
   "metadata": {
    "ExecuteTime": {
     "end_time": "2024-05-20T06:56:50.451806Z",
     "start_time": "2024-05-20T06:56:50.445284Z"
    }
   },
   "cell_type": "code",
   "source": [
    "#reproducibiity: trying to take the random out of random:\n",
    "RANDOM_SEED = 42\n",
    "torch.manual_seed(RANDOM_SEED) \n",
    "torch.rand(3,3)"
   ],
   "id": "ea290f4e6f4ca0ee",
   "execution_count": 205,
   "outputs": []
  },
  {
   "metadata": {
    "ExecuteTime": {
     "end_time": "2024-05-20T07:13:43.671718Z",
     "start_time": "2024-05-20T07:13:43.420769Z"
    }
   },
   "cell_type": "code",
   "source": "!nvidia-smi",
   "id": "360d27e4376cd72a",
   "execution_count": 206,
   "outputs": []
  },
  {
   "metadata": {
    "ExecuteTime": {
     "end_time": "2024-05-20T07:16:44.813678Z",
     "start_time": "2024-05-20T07:16:44.807136Z"
    }
   },
   "cell_type": "code",
   "source": [
    "print(torch.cuda.is_available())\n",
    "print(torch.cuda.device_count())\n",
    "print(torch.cuda.get_device_name())"
   ],
   "id": "293c585d5c032918",
   "execution_count": 209,
   "outputs": []
  },
  {
   "metadata": {
    "ExecuteTime": {
     "end_time": "2024-05-20T07:20:48.353615Z",
     "start_time": "2024-05-20T07:20:48.348288Z"
    }
   },
   "cell_type": "code",
   "source": "device  = \"cuda\" if torch.cuda.is_available() else \"cpu\"\n",
   "id": "99791f8df36945d4",
   "execution_count": 211,
   "outputs": []
  },
  {
   "metadata": {
    "ExecuteTime": {
     "end_time": "2024-05-20T07:22:31.610311Z",
     "start_time": "2024-05-20T07:22:31.598224Z"
    }
   },
   "cell_type": "code",
   "source": [
    "tensor = torch.tensor([1,2,3])\n",
    "print(tensor, device)\n",
    "#move tensor to gpu\n",
    "tensor_on_gpu = tensor.to(device)\n",
    "tensor_on_gpu"
   ],
   "id": "714a9a6e1556bc2e",
   "execution_count": 213,
   "outputs": []
  },
  {
   "metadata": {
    "ExecuteTime": {
     "end_time": "2024-05-20T07:25:08.323542Z",
     "start_time": "2024-05-20T07:25:08.313701Z"
    }
   },
   "cell_type": "code",
   "source": "tensor_on_gpu.cpu().numpy()",
   "id": "bc73cee5dc098d48",
   "execution_count": 216,
   "outputs": []
  },
  {
   "metadata": {
    "ExecuteTime": {
     "end_time": "2024-05-20T07:39:19.509871Z",
     "start_time": "2024-05-20T07:39:19.506700Z"
    }
   },
   "cell_type": "code",
   "source": [
    "# Exercises\n",
    "random_tensor = torch.rand(7,7)"
   ],
   "id": "fbc0883a34e82c59",
   "execution_count": 217,
   "outputs": []
  },
  {
   "metadata": {},
   "cell_type": "code",
   "execution_count": null,
   "source": "",
   "id": "7d5038b1b18abe6a",
   "outputs": []
  }
 ],
 "metadata": {
  "kernelspec": {
   "display_name": "Python 3",
   "language": "python",
   "name": "python3"
  },
  "language_info": {
   "codemirror_mode": {
    "name": "ipython",
    "version": 2
   },
   "file_extension": ".py",
   "mimetype": "text/x-python",
   "name": "python",
   "nbconvert_exporter": "python",
   "pygments_lexer": "ipython2",
   "version": "2.7.6"
  }
 },
 "nbformat": 4,
 "nbformat_minor": 5
}
