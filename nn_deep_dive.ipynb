{
 "cells": [
  {
   "metadata": {},
   "cell_type": "raw",
   "source": "",
   "id": "9c3e4a8f27fa2961"
  },
  {
   "metadata": {
    "ExecuteTime": {
     "end_time": "2024-05-25T22:48:50.910677Z",
     "start_time": "2024-05-25T22:48:50.632319Z"
    }
   },
   "cell_type": "code",
   "source": [
    "import  torch\n",
    "from pathlib import Path\n",
    "import requests\n",
    "import pickle\n",
    "import gzip\n",
    "from matplotlib import pyplot as plt\n",
    "from tqdm import tqdm"
   ],
   "id": "5efe193beeaaa36b",
   "execution_count": 19,
   "outputs": []
  },
  {
   "metadata": {
    "ExecuteTime": {
     "end_time": "2024-05-25T22:46:04.166925Z",
     "start_time": "2024-05-25T22:46:04.161192Z"
    }
   },
   "cell_type": "code",
   "source": [
    "DATA_PATH  = Path(\"data\")\n",
    "PATH = DATA_PATH / \"mnist\"\n",
    "PATH.mkdir(parents=True, exist_ok=True)"
   ],
   "id": "dc9657f047f871a9",
   "execution_count": 8,
   "outputs": []
  },
  {
   "metadata": {
    "ExecuteTime": {
     "end_time": "2024-05-25T22:46:05.044294Z",
     "start_time": "2024-05-25T22:46:04.597738Z"
    }
   },
   "cell_type": "code",
   "source": [
    "print(\"Downloading MNIST dataset...\")\n",
    "URL = \"https://github.com/pytorch/tutorials/raw/main/_static/\"\n",
    "FILENAME = \"mnist.pkl.gz\"\n",
    "if not (PATH/FILENAME).exists():\n",
    "    content = requests.get(URL + FILENAME).content\n",
    "    with (PATH/FILENAME).open(\"wb\") as f:\n",
    "        f.write(content)\n",
    "print(f\"{FILENAME} Download complete!!\")"
   ],
   "id": "b95d9752c077b4c0",
   "execution_count": 9,
   "outputs": []
  },
  {
   "metadata": {
    "ExecuteTime": {
     "end_time": "2024-05-25T22:47:03.075582Z",
     "start_time": "2024-05-25T22:47:02.308092Z"
    }
   },
   "cell_type": "code",
   "source": [
    "with gzip.open((PATH / FILENAME).as_posix(), \"rb\") as f:\n",
    "    ((x_train, y_train), (x_valid, y_valid), _) = pickle.load(f, encoding=\"latin-1\")"
   ],
   "id": "e28e9668ea5eceba",
   "execution_count": 12,
   "outputs": []
  },
  {
   "metadata": {
    "ExecuteTime": {
     "end_time": "2024-05-25T22:47:59.899622Z",
     "start_time": "2024-05-25T22:47:59.892794Z"
    }
   },
   "cell_type": "code",
   "source": "x_train.shape, y_train.shape, x_valid.shape, y_valid.shape",
   "id": "719571a4047a6d74",
   "execution_count": 16,
   "outputs": []
  },
  {
   "metadata": {
    "ExecuteTime": {
     "end_time": "2024-05-25T22:51:23.442935Z",
     "start_time": "2024-05-25T22:51:23.341967Z"
    }
   },
   "cell_type": "code",
   "source": "plt.imshow(x_train[49999].reshape(28,28),cmap='grey')",
   "id": "223f18f4c61271d5",
   "execution_count": 21,
   "outputs": []
  },
  {
   "metadata": {
    "ExecuteTime": {
     "end_time": "2024-05-25T22:54:54.866636Z",
     "start_time": "2024-05-25T22:54:54.845260Z"
    }
   },
   "cell_type": "code",
   "source": [
    "#convert data to torch tensor\n",
    "x_train,y_train, x_valid,y_valid =  map(torch.tensor, (x_train,y_train,x_valid,y_valid))\n",
    "x_train.shape, y_train.shape, x_valid.shape, y_valid.shape"
   ],
   "id": "3f945f322549b534",
   "execution_count": 24,
   "outputs": []
  },
  {
   "metadata": {
    "ExecuteTime": {
     "end_time": "2024-05-25T23:27:11.818372Z",
     "start_time": "2024-05-25T23:27:11.813201Z"
    }
   },
   "cell_type": "code",
   "source": [
    "#using nn.Functional\n",
    "import torch.nn.functional as F \n",
    "loss_fn = F.cross_entropy\n",
    "\n",
    "from torch import nn\n",
    "class Mnist_LR(nn.Module):\n",
    "    def __init__(self):\n",
    "        super(Mnist_LR, self).__init__()\n",
    "        self.linear = nn.Linear(in_features=784,out_features=10)\n",
    "    def forward(self, x):\n",
    "        return self.linear(x)\n"
   ],
   "id": "6b57778b67816ada",
   "execution_count": 27,
   "outputs": []
  },
  {
   "metadata": {
    "ExecuteTime": {
     "end_time": "2024-05-25T23:32:08.238777Z",
     "start_time": "2024-05-25T23:32:08.232644Z"
    }
   },
   "cell_type": "code",
   "source": [
    "model = Mnist_LR()\n",
    "list(model.parameters())\n",
    "model.state_dict()\n",
    "type(model)"
   ],
   "id": "49bf2dd3ed612ede",
   "execution_count": 33,
   "outputs": []
  },
  {
   "metadata": {
    "ExecuteTime": {
     "end_time": "2024-05-26T00:15:47.175808Z",
     "start_time": "2024-05-26T00:15:47.171503Z"
    }
   },
   "cell_type": "code",
   "source": "optimizer = torch.optim.SGD(model.parameters(), lr=0.001)",
   "id": "f97a1d7b7237c4ed",
   "execution_count": 46,
   "outputs": []
  },
  {
   "metadata": {
    "ExecuteTime": {
     "end_time": "2024-05-26T00:15:48.974202Z",
     "start_time": "2024-05-26T00:15:48.967103Z"
    }
   },
   "cell_type": "code",
   "source": [
    "def fit(model:Mnist_LR,epochs:int):\n",
    "    train_losses = []\n",
    "    val_losses = []\n",
    "    for epoch in range(epochs):\n",
    "        model.train()\n",
    "        y_preds = model(x_train)\n",
    "        train_loss = loss_fn(y_preds,y_train)\n",
    "        optimizer.zero_grad()\n",
    "        train_loss.backward()\n",
    "        \n",
    "        optimizer.step()\n",
    "        \n",
    "        with torch.inference_mode():\n",
    "            y_val_preds = model(x_valid)\n",
    "            val_loss = loss_fn(y_val_preds, y_valid)\n",
    "            val_losses.append(val_loss)\n",
    "        if epoch % 10 == 0:\n",
    "            print(f\"Epoch:{epoch} | Train loss:{train_loss} | Test loss: {val_loss}\")        "
   ],
   "id": "506d48b86de823ea",
   "execution_count": 47,
   "outputs": []
  },
  {
   "metadata": {
    "ExecuteTime": {
     "end_time": "2024-05-26T00:17:27.715981Z",
     "start_time": "2024-05-26T00:15:52.312392Z"
    }
   },
   "cell_type": "code",
   "source": "fit(model= model,epochs=10000)",
   "id": "224880f313aed02b",
   "execution_count": 48,
   "outputs": []
  },
  {
   "metadata": {},
   "cell_type": "code",
   "execution_count": null,
   "source": "",
   "id": "de0e1679ac13d93a",
   "outputs": []
  }
 ],
 "metadata": {
  "kernelspec": {
   "display_name": "Python 3",
   "language": "python",
   "name": "python3"
  },
  "language_info": {
   "codemirror_mode": {
    "name": "ipython",
    "version": 2
   },
   "file_extension": ".py",
   "mimetype": "text/x-python",
   "name": "python",
   "nbconvert_exporter": "python",
   "pygments_lexer": "ipython2",
   "version": "2.7.6"
  }
 },
 "nbformat": 4,
 "nbformat_minor": 5
}
